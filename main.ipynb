{
 "cells": [
  {
   "cell_type": "code",
   "execution_count": null,
   "metadata": {},
   "outputs": [],
   "source": [
    "# necessary imports and driver initialization\n",
    "\n",
    "from datetime import datetime\n",
    "import time\n",
    "\n",
    "from selenium import webdriver\n",
    "from selenium.webdriver.common.keys import Keys\n",
    "from selenium.webdriver.chrome.options import Options\n",
    "\n",
    "from PIL import Image\n",
    "from io import BytesIO\n",
    "import win32clipboard\n",
    "\n",
    "options = Options()\n",
    "options.add_argument(\"start-maximized\")\n",
    "driver = webdriver.Chrome(options=options)\n",
    "driver.get(\"https://artofproblemsolving.com/community/c542329\") # link to blog"
   ]
  },
  {
   "cell_type": "code",
   "execution_count": null,
   "metadata": {},
   "outputs": [],
   "source": [
    "# scroll all the way down until stationary\n",
    "\n",
    "last_height = driver.execute_script(\"return document.body.scrollHeight\")\n",
    "while True:\n",
    "    driver.execute_script(\"window.scrollTo(0, document.body.scrollHeight);\")\n",
    "    time.sleep(0.3)\n",
    "    new_height = driver.execute_script(\"return document.body.scrollHeight\")\n",
    "    if new_height == last_height:\n",
    "        break\n",
    "    last_height = new_height"
   ]
  },
  {
   "cell_type": "code",
   "execution_count": null,
   "metadata": {},
   "outputs": [],
   "source": [
    "# delete the banner and other static elements\n",
    "\n",
    "def delete_by_id(id):\n",
    "    driver.execute_script(f\"\"\"\n",
    "    var element = document.getElementById(\"{id}\");\n",
    "    element.parentNode.removeChild(element);\n",
    "    \"\"\")\n",
    "\n",
    "delete_by_id(\"navigation_box\")\n",
    "delete_by_id(\"blog_keywords\")\n",
    "delete_by_id(\"feed-global-tab\")"
   ]
  },
  {
   "cell_type": "code",
   "execution_count": null,
   "metadata": {},
   "outputs": [],
   "source": [
    "# explode all hidden text\n",
    "\n",
    "def explode(post):\n",
    "    # while there is a class \"cmty-hide-heading faux-link\", click it so it becomes class \"cmty-hide-heading faux-link cmty-hide-open\"\n",
    "    while True:\n",
    "        hidden = post.find_elements(\"css selector\", \".cmty-hide-heading.faux-link\")\n",
    "        true_hidden = []\n",
    "        for h in hidden:\n",
    "            if \"cmty-hide-open\" not in h.get_attribute(\"class\"):\n",
    "                true_hidden.append(h)\n",
    "        if len(true_hidden) == 0:\n",
    "            break\n",
    "        for h in true_hidden:\n",
    "            h.click()"
   ]
  },
  {
   "cell_type": "code",
   "execution_count": null,
   "metadata": {},
   "outputs": [],
   "source": [
    "# find all post elements and explode them\n",
    "\n",
    "posts = driver.find_elements(\"css selector\", \".entry\")\n",
    "for post in posts:\n",
    "    explode(post)"
   ]
  },
  {
   "cell_type": "code",
   "execution_count": null,
   "metadata": {},
   "outputs": [],
   "source": [
    "# scroll down by page height and take full page screenshots and save them to ./images/screenshots/\n",
    "\n",
    "driver.execute_script(\"window.scrollTo(0, 0);\")\n",
    "prev_y = driver.execute_script(\"return window.scrollY\")\n",
    "i = 0\n",
    "imgs = []\n",
    "while True:\n",
    "    img = Image.open(BytesIO(driver.get_screenshot_as_png()))\n",
    "    time.sleep(0.3)\n",
    "    driver.execute_script(\"window.scrollTo(0, window.scrollY + window.innerHeight);\")\n",
    "    curr_y = driver.execute_script(\"return window.scrollY\")\n",
    "    if curr_y == prev_y:\n",
    "        break\n",
    "    imgs.append((img, i, prev_y, curr_y, curr_y - prev_y))\n",
    "    prev_y = curr_y\n",
    "    i += 1\n",
    "\n",
    "for img, i, prev_y, curr_y, diff in imgs:\n",
    "    img.save(f\"./images/screenshots/{i}.png\")"
   ]
  },
  {
   "cell_type": "code",
   "execution_count": null,
   "metadata": {},
   "outputs": [],
   "source": [
    "# merge all screenshots into one image vertically\n",
    "\n",
    "cnt = len(imgs)\n",
    "widths = [img.size[0] for img, i, prev_y, curr_y, diff in imgs]\n",
    "heights = [img.size[1] for img, i, prev_y, curr_y, diff in imgs]\n",
    "\n",
    "max_width = max(widths)\n",
    "assert all(width == max_width for width in widths)\n",
    "sum_height = sum(heights)\n",
    "\n",
    "merged = Image.new(\"RGB\", (max_width, sum_height))\n",
    "\n",
    "y_offset = 0\n",
    "for img, i, prev_y, curr_y, diff in imgs:\n",
    "    merged.paste(img, (0, y_offset))\n",
    "    y_offset += heights[i]\n",
    "\n",
    "merged.save(\"./images/merged.png\")"
   ]
  },
  {
   "cell_type": "code",
   "execution_count": null,
   "metadata": {},
   "outputs": [],
   "source": [
    "# unwrap each post to its title, link, date posted, and screenshot of the post\n",
    "\n",
    "def unwrap_post(post):\n",
    "    title = post.find_element(\"css selector\", \"h1\").text\n",
    "    link = post.find_element(\"css selector\", \"h1 a\").get_attribute(\"href\")\n",
    "    date = post.find_element(\"css selector\", \"h2\").text[len(\"by fatant, \"):]\n",
    "    date_ts = datetime.strptime(date, \"%b %d, %Y, %I:%M %p\").strftime(\"%Y-%m-%d %H:%M:%S\")\n",
    "    entry = post.find_element(\"css selector\", \".entrywrap\")\n",
    "    msg = entry.find_element(\"css selector\", \".message\")\n",
    "    # img = Image.open(BytesIO(msg.screenshot_as_png))\n",
    "    pos = [msg.location[\"x\"], msg.location[\"y\"], msg.location[\"x\"] + msg.size[\"width\"], msg.location[\"y\"] + msg.size[\"height\"]]\n",
    "    return title, link, date, date_ts, pos"
   ]
  },
  {
   "cell_type": "code",
   "execution_count": null,
   "metadata": {},
   "outputs": [],
   "source": [
    "# aggregate all posts into a list of tuples then sort\n",
    "\n",
    "post_data = [unwrap_post(post) for post in posts]\n",
    "post_data.sort(key=lambda x: x[3])"
   ]
  },
  {
   "cell_type": "code",
   "execution_count": null,
   "metadata": {},
   "outputs": [],
   "source": [
    "# ad hoc solution bc i posted twice within the same minute\n",
    "\n",
    "tmp = post_data[0]\n",
    "post_data[0] = post_data[1]\n",
    "post_data[1] = tmp\n",
    "post_data"
   ]
  },
  {
   "cell_type": "code",
   "execution_count": null,
   "metadata": {},
   "outputs": [],
   "source": [
    "# sanity check, should be approximately equal\n",
    "# difference is due to scroll bar and a little off the bottom since we only merged full page screenshots\n",
    "\n",
    "page_dim = (driver.execute_script(\"return document.body.scrollWidth\"), driver.execute_script(\"return document.body.scrollHeight\"))\n",
    "img_dim = merged.size\n",
    "\n",
    "print(\"Page dimensions:\", page_dim)\n",
    "print(\"Image dimensions:\", img_dim)"
   ]
  },
  {
   "cell_type": "code",
   "execution_count": null,
   "metadata": {},
   "outputs": [],
   "source": [
    "# print out all post data and save screenshots\n",
    "\n",
    "Image.MAX_IMAGE_PIXELS = None\n",
    "final = Image.open(\"./images/merged.png\")\n",
    "\n",
    "count = 0\n",
    "for title, link, date, date_true, pos in post_data:\n",
    "    print(title, link, date, date_true)\n",
    "    img = final.crop(pos)\n",
    "    file_name = date_true.replace(':', '-')\n",
    "    img.save(f\"./images/posts/{file_name}.png\")"
   ]
  },
  {
   "cell_type": "code",
   "execution_count": null,
   "metadata": {},
   "outputs": [],
   "source": [
    "# sign into substack\n",
    "\n",
    "email = \"this.is.not@my.email\"\n",
    "password = \"thisisnotmypassword\"\n",
    "\n",
    "driver.get(\"https://substack.com/\")\n",
    "driver.find_element(\"css selector\", \".button.sign-in-link.outline-grayscale\").click()\n",
    "driver.find_element(\"css selector\", \".login-option.substack-login__login-option\").click()\n",
    "driver.find_element(\"css selector\", \"input[type=email]\").send_keys(email)\n",
    "driver.find_element(\"css selector\", \"input[type=password]\").send_keys(password)\n",
    "driver.find_element(\"css selector\", \"button[type=submit]\").click()"
   ]
  },
  {
   "cell_type": "code",
   "execution_count": null,
   "metadata": {},
   "outputs": [],
   "source": [
    "# copy image to clipboard from path\n",
    "\n",
    "def copy_to_clipboard(clip_type, data):\n",
    "    win32clipboard.OpenClipboard()\n",
    "    win32clipboard.EmptyClipboard()\n",
    "    win32clipboard.SetClipboardData(clip_type, data)\n",
    "    win32clipboard.CloseClipboard()\n",
    "    \n",
    "def copy_img_to_clipboard(img):\n",
    "    io = BytesIO()\n",
    "    img.convert(\"RGB\").save(io, \"BMP\")\n",
    "    data = io.getvalue()[14:]\n",
    "    io.close()\n",
    "    copy_to_clipboard(win32clipboard.CF_DIB, data)"
   ]
  },
  {
   "cell_type": "code",
   "execution_count": null,
   "metadata": {},
   "outputs": [],
   "source": [
    "# post given image/data to substack\n",
    "\n",
    "def post_substack(post, url):\n",
    "    driver.get(url)\n",
    "    title, link, date, date_true, pos = post\n",
    "    file_name = date_true.replace(':', '-')\n",
    "    img = Image.open(f\"./images/posts/{file_name}.png\")\n",
    "    driver.find_element(\"css selector\", \".page-title.mousetrap\").send_keys(title)\n",
    "    regular_date = datetime.strptime(date, \"%b %d, %Y, %I:%M %p\").strftime(\"%B %d, %Y\").lower()\n",
    "    subtitle = f\"initially posted to aops on {regular_date}\"\n",
    "    driver.find_element(\"css selector\", \".subtitle.mousetrap\").send_keys(subtitle)\n",
    "    driver.find_element(\"css selector\", \".tiptap.ProseMirror.mousetrap\").click()\n",
    "    driver.find_element(\"css selector\", \".tiptap.ProseMirror.mousetrap\").send_keys(link)\n",
    "    driver.find_element(\"css selector\", \".tiptap.ProseMirror.mousetrap\").send_keys(Keys.CONTROL, \"a\")\n",
    "    driver.find_element(\"css selector\", '[title=\"Link ^K\"]').click()\n",
    "    driver.find_element(\"css selector\", \".url-input\").send_keys(link, Keys.ENTER)\n",
    "    driver.find_element(\"css selector\", \".tiptap.ProseMirror.mousetrap\").send_keys(Keys.RIGHT)\n",
    "    driver.find_element(\"css selector\", \".tiptap.ProseMirror.mousetrap\").send_keys(Keys.ENTER)\n",
    "    copy_img_to_clipboard(img)\n",
    "    driver.find_element(\"css selector\", \".tiptap.ProseMirror.mousetrap\").send_keys(Keys.CONTROL, \"v\")\n",
    "    while len(driver.find_elements(\"css selector\", '[data-testid=\"publish-button\"]')) == 0:\n",
    "        time.sleep(0.3)\n",
    "    driver.find_element(\"css selector\", '[data-testid=\"publish-button\"]').click()\n",
    "    time.sleep(0.3)\n",
    "    driver.find_element(\"css selector\", '.frontend-pencraft-form-Checkbox-module__container--bnhv5.frontend-pencraft-form-Checkbox-module__checked--SUdWp').click()\n",
    "    all_buttons = driver.find_elements(\"css selector\", \"button\")\n",
    "    for button in all_buttons:\n",
    "        if button.text == \"Publish now\":\n",
    "            button.click()\n",
    "            break"
   ]
  },
  {
   "cell_type": "code",
   "execution_count": null,
   "metadata": {},
   "outputs": [],
   "source": [
    "# skip first post since i already posted it manually for testing\n",
    "\n",
    "for post in post_data[1:]:\n",
    "    post_substack(post, \"https://f4t4nt.substack.com/publish/post\")\n",
    "    time.sleep(5)"
   ]
  }
 ],
 "metadata": {
  "kernelspec": {
   "display_name": "Python 3.9.7 ('base')",
   "language": "python",
   "name": "python3"
  },
  "language_info": {
   "codemirror_mode": {
    "name": "ipython",
    "version": 3
   },
   "file_extension": ".py",
   "mimetype": "text/x-python",
   "name": "python",
   "nbconvert_exporter": "python",
   "pygments_lexer": "ipython3",
   "version": "3.9.7"
  },
  "orig_nbformat": 4,
  "vscode": {
   "interpreter": {
    "hash": "19d1d53a962d236aa061289c2ac16dc8e6d9648c89fe79f459ae9a3493bc67b4"
   }
  }
 },
 "nbformat": 4,
 "nbformat_minor": 2
}
